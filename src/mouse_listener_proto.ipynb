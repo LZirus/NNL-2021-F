{
 "cells": [
  {
   "cell_type": "code",
   "execution_count": null,
   "metadata": {},
   "outputs": [],
   "source": [
    "from pynput.mouse import Listener\n",
    "\n",
    "def on_move(x, y):\n",
    "    print('Pointer moved to {0}'.format(\n",
    "        (x, y)))\n",
    "\n",
    "def on_click(x, y, button, pressed):\n",
    "    print('{0} at {1}'.format(\n",
    "        'Pressed' if pressed else 'Released',\n",
    "        (x, y)))\n",
    "    if not pressed:\n",
    "        # Stop listener\n",
    "        return False\n",
    "\n",
    "def on_scroll(x, y, dx, dy):\n",
    "    print('Scrolled {0}'.format(\n",
    "        (x, y)))\n",
    "\n",
    "# Collect events until released\n",
    "with Listener(\n",
    "        on_move=on_move,\n",
    "        on_click=on_click,\n",
    "        on_scroll=on_scroll) as listener:\n",
    "    listener.join()"
   ]
  }
 ],
 "metadata": {
  "language_info": {
   "name": "python"
  },
  "orig_nbformat": 4
 },
 "nbformat": 4,
 "nbformat_minor": 2
}
