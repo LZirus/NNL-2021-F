{
 "cells": [
  {
   "cell_type": "markdown",
   "metadata": {},
   "source": [
    "## Initializing opencv haarcascade face detection network\n",
    "https://github.com/opencv/opencv/tree/master/data/haarcascades\n",
    "explained in: https://www.youtube.com/watch?v=7IFhsbfby9s&t=300s (or gitHub)"
   ]
  },
  {
   "cell_type": "code",
   "execution_count": 1,
   "metadata": {},
   "outputs": [],
   "source": [
    "import cv2\n",
    "import os"
   ]
  },
  {
   "cell_type": "code",
   "execution_count": 2,
   "metadata": {},
   "outputs": [],
   "source": [
    "def convertImg(img):\n",
    "    return cv2.cvtColor(img, cv2.COLOR_BGR2GRAY)\n",
    "\n",
    "def faceNetLocalize(img, **kwargs):\n",
    "    scaleFactor = kwargs.get('scaleFactor', 1.1) #between 1.05 (quality) and 1.4 (speed) recommended (scale of the faces we search for)\n",
    "    minNeighbors = kwargs.get('minNeighbors', 4) #between 3 (quantity) and 6 (quality) recommended\n",
    "    minSize = kwargs.get('minSize', (10, 10)) #min size of a face in the picture\n",
    "    faceNet = kwargs.get('faceNet', init_faceNet())\n",
    "    \n",
    "    img_cvt = convertImg(img)\n",
    "    return faceNet.detectMultiScale3(img_cvt, scaleFactor=scaleFactor, minNeighbors=minNeighbors, minSize=minSize, outputRejectLevels = True)\n",
    "\n",
    "def init_faceNet(**kwargs):\n",
    "    path = kwargs.get('path', 'haarcascade_frontalface_default.xml')\n",
    "    return cv2.CascadeClassifier(path)\n"
   ]
  },
  {
   "cell_type": "code",
   "execution_count": 3,
   "metadata": {},
   "outputs": [],
   "source": [
    "#TODO: testing with different model types\n",
    "#for example: eye model + larger bounding box towards the bottom"
   ]
  },
  {
   "cell_type": "markdown",
   "metadata": {},
   "source": [
    "## Mask classifier\n",
    "\n",
    "foundation: https://www.tensorflow.org/tutorials/load_data/images"
   ]
  },
  {
   "cell_type": "code",
   "execution_count": 4,
   "metadata": {},
   "outputs": [],
   "source": [
    "from sklearn.model_selection import train_test_split\n",
    "from sklearn.metrics import classification_report\n",
    "import numpy as np\n",
    "import matplotlib.pyplot as plt\n",
    "from tensorflow.keras.layers import MaxPool2D, Conv2D, Input, Dense, Flatten, AveragePooling2D, Dropout\n",
    "import tensorflow.keras.layers as lays\n",
    "from tensorflow.keras.layers.experimental.preprocessing import Rescaling, RandomContrast, RandomFlip, RandomRotation\n",
    "from tensorflow.keras.preprocessing.image import load_img, img_to_array, ImageDataGenerator\n",
    "from tensorflow.keras.preprocessing import image_dataset_from_directory\n",
    "from tensorflow.keras import Sequential, losses as lfs\n",
    "from tensorflow.keras.optimizers import Adam\n",
    "import keras_tuner as kt\n",
    "from tensorflow.keras.callbacks import ModelCheckpoint\n",
    "from tensorflow.keras import utils"
   ]
  },
  {
   "cell_type": "markdown",
   "metadata": {},
   "source": [
    "#### Data augmentation\n",
    "https://www.tensorflow.org/tutorials/images/data_augmentation"
   ]
  },
  {
   "cell_type": "code",
   "execution_count": 5,
   "metadata": {},
   "outputs": [
    {
     "name": "stderr",
     "output_type": "stream",
     "text": [
      "2022-01-25 02:56:54.006016: I tensorflow/compiler/jit/xla_cpu_device.cc:41] Not creating XLA devices, tf_xla_enable_xla_devices not set\n",
      "2022-01-25 02:56:54.009653: I tensorflow/core/platform/cpu_feature_guard.cc:142] This TensorFlow binary is optimized with oneAPI Deep Neural Network Library (oneDNN) to use the following CPU instructions in performance-critical operations:  SSE4.1 SSE4.2 AVX AVX2 FMA\n",
      "To enable them in other operations, rebuild TensorFlow with the appropriate compiler flags.\n",
      "2022-01-25 02:56:54.037761: I tensorflow/core/common_runtime/process_util.cc:146] Creating new thread pool with default inter op setting: 2. Tune using inter_op_parallelism_threads for best performance.\n"
     ]
    }
   ],
   "source": [
    "augmentation = Sequential([\n",
    "  RandomFlip(\"horizontal\"),\n",
    "  RandomRotation(0.4),\n",
    "  RandomContrast(0.5)\n",
    "])"
   ]
  },
  {
   "cell_type": "markdown",
   "metadata": {},
   "source": [
    "##### variables:"
   ]
  },
  {
   "cell_type": "code",
   "execution_count": 6,
   "metadata": {},
   "outputs": [],
   "source": [
    "batch_size = 32\n",
    "img_size = (150, 150)\n",
    "img_size_vgg = (224, 224)\n",
    "epochs = 11\n",
    "checkpoint_path = \"mask_model/weights.ckpt\"\n",
    "checkpoint_dir = os.path.dirname(checkpoint_path)\n",
    "imgs_path = os.path.join('..', 'img')\n",
    "num_classes = 3\n",
    "\n",
    "correct_usage =  'correct usage: \\n' + 'predict([path to image], \\'category\\' \\n' + 'predict([path to image], \\'probabilities\\' \\n' + 'predict([path to image], \\'detection\\' \\n' + 'predict(\\'live_detection\\')'"
   ]
  },
  {
   "cell_type": "markdown",
   "metadata": {},
   "source": [
    "##### loading dataset:"
   ]
  },
  {
   "cell_type": "code",
   "execution_count": 7,
   "metadata": {},
   "outputs": [],
   "source": [
    "def load_dataset(**kwargs):\n",
    "    imgs_path = kwargs.get('imgs_path', os.path.join('..', 'img'))\n",
    "    img_size = kwargs.get('img_size', (180, 180))\n",
    "    batch_size = kwargs.get('batch_size', 32)\n",
    "\n",
    "    ##load images/ labels from directory\n",
    "    valid_images = [\".jpg\",\".png\",\".jpeg\",\".JPG\"]\n",
    "    x=[]\n",
    "    y=[]\n",
    "    \n",
    "    for root, dirs, files in os.walk(imgs_path):\n",
    "        for filename in files:\n",
    "            end = os.path.splitext(filename)[1]\n",
    "            if end.lower() not in valid_images:\n",
    "                continue\n",
    "            image = load_img(os.path.join(root, filename), target_size=img_size)\n",
    "            image = img_to_array(image)\n",
    "            \n",
    "            label = os.path.join(root, filename).split(os.path.sep)[-2]\n",
    "            \n",
    "            x.append(image)\n",
    "            y.append(label)\n",
    "    x = np.array(x, dtype=\"float32\")\n",
    "    y = np.array(y)\n",
    "\n",
    "    ## convert labels to ints from 0 ... len(labels)-1\n",
    "    labels = []\n",
    "    for i in range(len(y)):\n",
    "        try:\n",
    "            j = labels.index(y[i])\n",
    "        except:\n",
    "            labels.append(y[i])\n",
    "            j = labels.index(y[i])\n",
    "        y[i] = j\n",
    "    y.astype(int)\n",
    "    \n",
    "    ## split dataset\n",
    "    trainX, testX, trainY, testY = train_test_split(x, y, test_size=0.2, random_state=3)\n",
    "\n",
    "    ## one-hot encoding\n",
    "    trainY = utils.to_categorical(trainY, num_classes)\n",
    "    testY = utils.to_categorical(testY, num_classes)\n",
    "\n",
    "    ## data augmentation\n",
    "    datagen = ImageDataGenerator(\n",
    "        rescale=1./255,\n",
    "        featurewise_center=True,\n",
    "        featurewise_std_normalization=True,\n",
    "        rotation_range=20,\n",
    "        width_shift_range=0.2,\n",
    "        height_shift_range=0.2,\n",
    "        zoom_range=0.2,\n",
    "        horizontal_flip=True,\n",
    "        validation_split=0.2\n",
    "    )\n",
    "\n",
    "    ## merge xs and ys\n",
    "    train_batches = datagen.flow(trainX, trainY, batch_size=32, subset='training')\n",
    "    test_batches  = datagen.flow(trainX, trainY, batch_size=32, subset='validation')\n",
    "    \n",
    "    return train_batches, test_batches, labels, testX, testY, trainX, trainY"
   ]
  },
  {
   "cell_type": "markdown",
   "metadata": {},
   "source": [
    "### Model selection & Training"
   ]
  },
  {
   "cell_type": "code",
   "execution_count": 8,
   "metadata": {},
   "outputs": [],
   "source": [
    "#Hypermodels\n",
    "#https://www.analyticsvidhya.com/blog/2021/06/create-convolutional-neural-network-model-and-optimize-using-keras-tuner-deep-learning/\n",
    "#https://www.tensorflow.org/tutorials/keras/keras_tuner\n",
    "\n",
    "def basic_model_builder(hp):\n",
    "  \n",
    "    basic_model = Sequential([\n",
    "        Conv2D(filters=hp.Int('c1_filter', min_value=32, max_value=256, step=16), kernel_size=hp.Choice('c1_kernel', values=[3,5]), activation='relu'),\n",
    "        AveragePooling2D(pool_size=(7,7)),\n",
    "        Flatten(name=\"flatten\"),\n",
    "        Dense(units=hp.Int('d1_units', min_value=32, max_value=512, step=32), activation=\"relu\"),\n",
    "        Dropout(0.2),#drops small confidences\n",
    "        Dense(num_classes, activation=\"softmax\")\n",
    "    ])\n",
    "\n",
    "    basic_model.compile(optimizer=Adam(hp.Choice('learning_rate', values=[1e-2, 1e-3, 1e-4])), loss=lfs.SparseCategoricalCrossentropy(from_logits=True), metrics=['accuracy'])\n",
    "    return basic_model\n",
    "\n",
    "def small_model_builder(hp):\n",
    "  \n",
    "    small_model = Sequential([\n",
    "        Conv2D(filters=hp.Int('c1_filter', min_value=32, max_value=256, step=16), kernel_size=hp.Choice('c1_kernel', values=[3,5]), activation='relu'),\n",
    "        Conv2D(filters=hp.Int('c2_filter', min_value=32, max_value=256, step=16), kernel_size=hp.Choice('c2_kernel', values=[3,5]), activation='relu'),\n",
    "        MaxPool2D(pool_size=(3,3)),\n",
    "        Flatten(name=\"flatten\"),\n",
    "        Dense(units=hp.Int('d1_units', min_value=32, max_value=512, step=32), activation=\"relu\"),\n",
    "        Dropout(0.2),#drops small confidences\n",
    "        Dense(num_classes, activation=\"softmax\")\n",
    "    ])\n",
    "\n",
    "    small_model.compile(optimizer=Adam(hp.Choice('learning_rate', values=[1e-2, 1e-3, 1e-4])), loss=lfs.SparseCategoricalCrossentropy(from_logits=True), metrics=['accuracy'])\n",
    "    return small_model\n",
    "\n",
    "\n",
    "def tune_model(model_builder, xs, ys):\n",
    "    #tuner = kt.RandomSearch(model_builder, objective='val_accuracy', max_trials=5)\n",
    "    tuner = kt.RandomSearch(kt.applications.HyperResNet(input_shape=(180, 180, 3), classes=2), objective='val_loss', max_trials=5)\n",
    "    tuner = kt.Hyperband(model_builder, objective='val_accuracy', max_epochs=10, factor=3)\n",
    "    tuner.search(xs, ys, epochs=50, validation_split=0.2)\n",
    "    return tuner.get_best_hyperparameters(num_trials=1)[0], tuner"
   ]
  },
  {
   "cell_type": "code",
   "execution_count": 9,
   "metadata": {},
   "outputs": [],
   "source": [
    "\n",
    "def select_model(model_name, **kwargs):\n",
    "    num_labels = kwargs.get('num_classes', num_classes)\n",
    "\n",
    "    basic_model = Sequential()\n",
    "    basic_model.add(Conv2D(32, (3,3), activation='relu', input_shape=(180,180,3)))\n",
    "    basic_model.add(AveragePooling2D(pool_size=(7,7)))\n",
    "    basic_model.add(Flatten(name=\"flatten\"))\n",
    "    basic_model.add(Dense(128, activation=\"relu\"))\n",
    "    basic_model.add(Dropout(0.5)) #drops small confidences\n",
    "    basic_model.add(Dense(num_labels, activation=\"softmax\"))\n",
    "    \n",
    "\n",
    "    small_model = Sequential()\n",
    "    small_model.add(Conv2D(filters=128, kernel_size=(5,5), activation='relu', input_shape=(180,180,3)))\n",
    "    small_model.add(Conv2D(filters=128, kernel_size=(5,5), activation='relu'))\n",
    "    small_model.add(MaxPool2D(pool_size=(3,3)))\n",
    "    small_model.add(Flatten(name=\"flatten\"))\n",
    "    small_model.add(Dense(units=224, activation=\"relu\"))\n",
    "    small_model.add(Dropout(0.5))#drops small confidences\n",
    "    small_model.add(Dense(num_labels, activation=\"softmax\"))\n",
    "    \n",
    "    vgg_smaller_model=Sequential()\n",
    "    vgg_smaller_model.add(Conv2D(64,(3,3),activation='relu',input_shape=(180,180,3)))\n",
    "    vgg_smaller_model.add(MaxPool2D(2,2))\n",
    "    vgg_smaller_model.add(Conv2D(128,(3,3),activation='relu'))\n",
    "    vgg_smaller_model.add(MaxPool2D(2,2))\n",
    "    vgg_smaller_model.add(Flatten())\n",
    "    vgg_smaller_model.add(Dropout(0.5))\n",
    "    vgg_smaller_model.add(Dense(120,activation='relu'))\n",
    "    vgg_smaller_model.add(Dense(num_labels,activation='softmax'))\n",
    "    \n",
    "\n",
    "    vgg_small_model=Sequential()\n",
    "    vgg_small_model.add(Conv2D(64,(3,3),activation='relu',input_shape=(img_size[0],img_size[1],3)))\n",
    "    vgg_small_model.add(MaxPool2D(2,2))\n",
    "    vgg_small_model.add(Conv2D(64,(3,3),activation='relu'))\n",
    "    vgg_small_model.add(MaxPool2D(2,2))\n",
    "    vgg_small_model.add(Conv2D(128,(3,3),activation='relu'))\n",
    "    vgg_small_model.add(MaxPool2D(2,2))\n",
    "    vgg_small_model.add(Conv2D(128,(3,3),activation='relu'))\n",
    "    vgg_small_model.add(MaxPool2D(2,2))\n",
    "    vgg_small_model.add(Flatten())\n",
    "    vgg_small_model.add(Dropout(0.5))\n",
    "    vgg_small_model.add(Dense(120,activation='relu'))\n",
    "    vgg_small_model.add(Dense(num_labels,activation='softmax'))\n",
    "\n",
    "    vgg_smaller_model=Sequential()\n",
    "    \n",
    "    vgg_smaller_model.add(Conv2D(64,(3,3),activation='relu',input_shape=(180,180,3)))\n",
    "    vgg_smaller_model.add(MaxPool2D(2,2))\n",
    "    vgg_smaller_model.add(Conv2D(128,(3,3),activation='relu'))\n",
    "    vgg_smaller_model.add(MaxPool2D(2,2))\n",
    "    vgg_smaller_model.add(Flatten())\n",
    "    vgg_smaller_model.add(Dropout(0.5))\n",
    "    vgg_smaller_model.add(Dense(120,activation='relu'))\n",
    "    vgg_smaller_model.add(Dense(3,activation='softmax'))\n",
    "\n",
    "    vgg_model = Sequential()\n",
    "    vgg_model.add(Conv2D(input_shape=(224,224,3), filters=64, kernel_size=(3,3), padding=\"same\", activation=\"relu\", strides=(1,1))) \n",
    "    vgg_model.add(Conv2D(filters=64,kernel_size=(3,3),padding=\"same\", activation=\"relu\"))\n",
    "    vgg_model.add(MaxPool2D(pool_size=(2, 2), strides=(2, 2)))\n",
    "    vgg_model.add(Conv2D(filters=128, kernel_size=(3,3), padding=\"same\", activation=\"relu\"))\n",
    "    vgg_model.add(Conv2D(filters=128, kernel_size=(3,3), padding=\"same\", activation=\"relu\"))\n",
    "    vgg_model.add(MaxPool2D(pool_size=(2, 2), strides=(2)))\n",
    "    vgg_model.add(Conv2D(filters=256, kernel_size=(3,3), padding=\"same\", activation=\"relu\"))\n",
    "    vgg_model.add(Conv2D(filters=256, kernel_size=(3,3), padding=\"same\", activation=\"relu\"))\n",
    "    vgg_model.add(Conv2D(filters=256, kernel_size=(3,3), padding=\"same\", activation=\"relu\"))\n",
    "    vgg_model.add(MaxPool2D(pool_size=(2, 2), strides=(2)))\n",
    "    vgg_model.add(Conv2D(filters=512, kernel_size=(3,3), padding=\"same\", activation=\"relu\"))\n",
    "    vgg_model.add(Conv2D(filters=512, kernel_size=(3,3), padding=\"same\", activation=\"relu\"))\n",
    "    vgg_model.add(Conv2D(filters=512, kernel_size=(3,3), padding=\"same\", activation=\"relu\"))\n",
    "    vgg_model.add(MaxPool2D(pool_size=(2, 2), strides=(2)))\n",
    "    vgg_model.add(Conv2D(filters=512, kernel_size=(3,3), padding=\"same\", activation=\"relu\"))\n",
    "    vgg_model.add(Conv2D(filters=512, kernel_size=(3,3), padding=\"same\", activation=\"relu\"))\n",
    "    vgg_model.add(Conv2D(filters=512, kernel_size=(3,3), padding=\"same\", activation=\"relu\"))\n",
    "    vgg_model.add(MaxPool2D(pool_size=(2, 2), strides=(2)))\n",
    "    vgg_model.add(Flatten())\n",
    "    vgg_model.add(Dense(units=4096, activation=\"relu\"))\n",
    "    vgg_model.add(Dense(units=4096, activation=\"relu\"))\n",
    "    vgg_model.add(Dense(units=num_labels, activation=\"softmax\"))\n",
    "    \n",
    "\n",
    "    if model_name == 'basic_model':\n",
    "        #basic_model.summary()\n",
    "        return basic_model\n",
    "    \n",
    "    if model_name == 'small_model':\n",
    "        #small_model.summary()\n",
    "        return small_model\n",
    "\n",
    "    if model_name == 'vgg_model':\n",
    "        #vgg_model.summary()\n",
    "        return vgg_model\n",
    "    \n",
    "    if model_name == 'vgg_small_model':\n",
    "        vgg_small_model.summary()\n",
    "        return vgg_small_model\n",
    "    \n",
    "    if model_name == 'vgg_smaller_model':\n",
    "        vgg_smaller_model.summary()\n",
    "        return vgg_smaller_model"
   ]
  },
  {
   "cell_type": "markdown",
   "metadata": {},
   "source": [
    "about the VGG-model: https://neurohive.io/en/popular-networks/vgg16/"
   ]
  },
  {
   "cell_type": "code",
   "execution_count": 10,
   "metadata": {},
   "outputs": [],
   "source": [
    "def train_model(model, train_ds, val_ds, **kwargs):\n",
    "    epochs = kwargs.get('epochs', 10)\n",
    "    # categorical_crossentropy\n",
    "    # mean_squared_error\n",
    "    # mean_squared_logarithmic_error\n",
    "\n",
    "    model.compile(loss='mean_squared_error', optimizer='adam', metrics=['accuracy'])\n",
    "    history = model.fit(train_ds, validation_data=val_ds, epochs=epochs)\n",
    "    return history"
   ]
  },
  {
   "cell_type": "markdown",
   "metadata": {},
   "source": [
    "#### Testing/Evaluation (mask):\n",
    "https://www.tensorflow.org/guide/keras/train_and_evaluate"
   ]
  },
  {
   "cell_type": "code",
   "execution_count": 11,
   "metadata": {},
   "outputs": [],
   "source": [
    "def evaluate_model(x_test, y_test, model):\n",
    "    results = model.evaluate(x_test, y_test, batch_size=32)\n",
    "    print(results)\n",
    "    \n",
    "    y_pred_confidences = model.predict(x_test)\n",
    "    y_pred = [np.argmax(cs) for cs in y_pred_confidences]\n",
    "    print(classification_report(y_test, y_pred))"
   ]
  },
  {
   "cell_type": "markdown",
   "metadata": {},
   "source": [
    "##### Predictions:"
   ]
  },
  {
   "cell_type": "code",
   "execution_count": 12,
   "metadata": {},
   "outputs": [],
   "source": [
    "def load_model(**kwargs):\n",
    "    checkpoint_path = kwargs.get('checkpoint_path', \"mask_model/weights.ckpt\")\n",
    "    model = kwargs.get('model', select_model('basic_model'))\n",
    "    model.load_weights(checkpoint_path)\n",
    "    return model"
   ]
  },
  {
   "cell_type": "code",
   "execution_count": 34,
   "metadata": {},
   "outputs": [],
   "source": [
    "def maskPredict(model, img, labels):\n",
    "    pred = model.predict(img[None])\n",
    "    label_index = np.argmax(pred)\n",
    "    print(labels[label_index])\n",
    "    return labels[label_index], pred[0][label_index]\n",
    "\n",
    "\n",
    "#mode can be 'category', 'probabilities', 'detection', 'live_detection'\n",
    "def predict(mode, model, **kwargs):\n",
    "    #model = kwargs.get('model', load_model())\n",
    "    img_path = kwargs.get('img_path', None)\n",
    "    img_size = kwargs.get('img_size', (180, 180))\n",
    "    labels = kwargs.get('labels', None)\n",
    "    \n",
    "    \n",
    "    if mode=='live_detection':\n",
    "        live_det(model, img_size, labels)\n",
    "        return\n",
    "    \n",
    "    if img_path is None:\n",
    "        print(correct_usage)\n",
    "        return\n",
    "\n",
    "    #load_img\n",
    "    img = load_img(img_path, target_size = img_size)\n",
    "    img = img_to_array(img)\n",
    "    \n",
    "    if mode=='detection':\n",
    "        detect(img)\n",
    "        cv2.waitKey(0)\n",
    "        cv2.destroyAllWindows()\n",
    "        return\n",
    "        \n",
    "    if mode=='category':\n",
    "        label, confidence = maskPredict(model, img, labels)\n",
    "        return label\n",
    "        \n",
    "    if mode=='probabilities':\n",
    "        #TODO: schöneres Format\n",
    "        return model.predict(img[None])\n",
    "\n",
    "    else:\n",
    "        print(correct_usage)\n",
    "\n",
    "def detect(model, img, img_size, labels):\n",
    "    faceLocs, rejectLevels, confidences = faceNetLocalize(img)\n",
    "        \n",
    "    for (x, y, w, h) in faceLocs:\n",
    "        #crop image and predict label of cropped image\n",
    "        img_crop = img[y:y+w, x:x+h]\n",
    "        img_crop = cv2.resize(img_crop, img_size)\n",
    "        img_crop = img_crop / 255\n",
    "        label, confidence_mask = maskPredict(model, img_to_array(img_crop), labels)\n",
    "\n",
    "        #show label/ bounding box on image\n",
    "        cv2.putText(img, f\"{label}, confidence:{confidence_mask}\", (x, y), cv2.FONT_HERSHEY_PLAIN, 1, (0,255,0), 2) \n",
    "        cv2.rectangle(img, (x, y), (x+w, y+h), (0, 255, 0), 3)\n",
    "    \n",
    "    cv2.imshow('live_output', img)\n",
    "\n",
    "def live_det(model, img_size, labels):\n",
    "    wait_time = 10 #time in ms to wait before refreshing feed\n",
    "    camera = cv2.VideoCapture(0) #Input value might differ on different systems\n",
    "    \n",
    "    while(True):\n",
    "        ret, img = camera.read()\n",
    "        if not ret:\n",
    "            print('Error: failed reading camera')\n",
    "            return 'Error: failed reading camera'\n",
    "        detect(model, img, img_size, labels)\n",
    "\n",
    "        #wait for ESC or q\n",
    "        if (cv2.waitKey(wait_time) & 0xFF) in [27, ord('q')]: \n",
    "            break\n",
    "\n",
    "    camera.release()\n",
    "    return 'live_output'\n",
    "\n"
   ]
  },
  {
   "cell_type": "code",
   "execution_count": 14,
   "metadata": {},
   "outputs": [],
   "source": [
    "train_ds, test_ds, labels, testX, testY, trainX, trainY = load_dataset(img_size=img_size)\n",
    "#bhps, tuner = tune_model(basic_model_builder, x_test, y_test)"
   ]
  },
  {
   "cell_type": "code",
   "execution_count": 15,
   "metadata": {},
   "outputs": [
    {
     "name": "stdout",
     "output_type": "stream",
     "text": [
      "Model: \"sequential_4\"\n",
      "_________________________________________________________________\n",
      "Layer (type)                 Output Shape              Param #   \n",
      "=================================================================\n",
      "conv2d_5 (Conv2D)            (None, 148, 148, 64)      1792      \n",
      "_________________________________________________________________\n",
      "max_pooling2d_3 (MaxPooling2 (None, 74, 74, 64)        0         \n",
      "_________________________________________________________________\n",
      "conv2d_6 (Conv2D)            (None, 72, 72, 64)        36928     \n",
      "_________________________________________________________________\n",
      "max_pooling2d_4 (MaxPooling2 (None, 36, 36, 64)        0         \n",
      "_________________________________________________________________\n",
      "conv2d_7 (Conv2D)            (None, 34, 34, 128)       73856     \n",
      "_________________________________________________________________\n",
      "max_pooling2d_5 (MaxPooling2 (None, 17, 17, 128)       0         \n",
      "_________________________________________________________________\n",
      "conv2d_8 (Conv2D)            (None, 15, 15, 128)       147584    \n",
      "_________________________________________________________________\n",
      "max_pooling2d_6 (MaxPooling2 (None, 7, 7, 128)         0         \n",
      "_________________________________________________________________\n",
      "flatten_1 (Flatten)          (None, 6272)              0         \n",
      "_________________________________________________________________\n",
      "dropout_3 (Dropout)          (None, 6272)              0         \n",
      "_________________________________________________________________\n",
      "dense_6 (Dense)              (None, 120)               752760    \n",
      "_________________________________________________________________\n",
      "dense_7 (Dense)              (None, 3)                 363       \n",
      "=================================================================\n",
      "Total params: 1,013,283\n",
      "Trainable params: 1,013,283\n",
      "Non-trainable params: 0\n",
      "_________________________________________________________________\n"
     ]
    },
    {
     "name": "stderr",
     "output_type": "stream",
     "text": [
      "/home/lzirus/miniconda3/lib/python3.9/site-packages/keras_preprocessing/image/image_data_generator.py:720: UserWarning: This ImageDataGenerator specifies `featurewise_center`, but it hasn't been fit on any training data. Fit it first by calling `.fit(numpy_data)`.\n",
      "  warnings.warn('This ImageDataGenerator specifies '\n",
      "/home/lzirus/miniconda3/lib/python3.9/site-packages/keras_preprocessing/image/image_data_generator.py:728: UserWarning: This ImageDataGenerator specifies `featurewise_std_normalization`, but it hasn't been fit on any training data. Fit it first by calling `.fit(numpy_data)`.\n",
      "  warnings.warn('This ImageDataGenerator specifies '\n",
      "2022-01-25 02:57:17.386364: I tensorflow/compiler/mlir/mlir_graph_optimization_pass.cc:116] None of the MLIR optimization passes are enabled (registered 2)\n",
      "2022-01-25 02:57:17.434043: I tensorflow/core/platform/profile_utils/cpu_utils.cc:112] CPU Frequency: 2111995000 Hz\n"
     ]
    },
    {
     "name": "stdout",
     "output_type": "stream",
     "text": [
      "Epoch 1/35\n",
      "8/8 [==============================] - 15s 1s/step - loss: 0.2296 - accuracy: 0.3695 - val_loss: 0.2112 - val_accuracy: 0.4839\n",
      "Epoch 2/35\n",
      "8/8 [==============================] - 12s 2s/step - loss: 0.2174 - accuracy: 0.4173 - val_loss: 0.1874 - val_accuracy: 0.6452\n",
      "Epoch 3/35\n",
      "8/8 [==============================] - 12s 1s/step - loss: 0.1755 - accuracy: 0.5631 - val_loss: 0.1243 - val_accuracy: 0.7903\n",
      "Epoch 4/35\n",
      "8/8 [==============================] - 12s 2s/step - loss: 0.1356 - accuracy: 0.6529 - val_loss: 0.1769 - val_accuracy: 0.5323\n",
      "Epoch 5/35\n",
      "8/8 [==============================] - 11s 1s/step - loss: 0.1354 - accuracy: 0.7058 - val_loss: 0.1250 - val_accuracy: 0.6935\n",
      "Epoch 6/35\n",
      "8/8 [==============================] - 12s 2s/step - loss: 0.1027 - accuracy: 0.7551 - val_loss: 0.0914 - val_accuracy: 0.8548\n",
      "Epoch 7/35\n",
      "8/8 [==============================] - 11s 1s/step - loss: 0.0961 - accuracy: 0.8217 - val_loss: 0.0796 - val_accuracy: 0.8065\n",
      "Epoch 8/35\n",
      "8/8 [==============================] - 14s 2s/step - loss: 0.0783 - accuracy: 0.8171 - val_loss: 0.0907 - val_accuracy: 0.7742\n",
      "Epoch 9/35\n",
      "8/8 [==============================] - 12s 1s/step - loss: 0.0758 - accuracy: 0.8377 - val_loss: 0.0768 - val_accuracy: 0.8226\n",
      "Epoch 10/35\n",
      "8/8 [==============================] - 10s 1s/step - loss: 0.0629 - accuracy: 0.8629 - val_loss: 0.0570 - val_accuracy: 0.9032\n",
      "Epoch 11/35\n",
      "8/8 [==============================] - 8s 992ms/step - loss: 0.0983 - accuracy: 0.7794 - val_loss: 0.0540 - val_accuracy: 0.9032\n",
      "Epoch 12/35\n",
      "8/8 [==============================] - 11s 1s/step - loss: 0.0670 - accuracy: 0.8508 - val_loss: 0.0553 - val_accuracy: 0.8871\n",
      "Epoch 13/35\n",
      "8/8 [==============================] - 10s 1s/step - loss: 0.0587 - accuracy: 0.8697 - val_loss: 0.0487 - val_accuracy: 0.9032\n",
      "Epoch 14/35\n",
      "8/8 [==============================] - 10s 1s/step - loss: 0.0693 - accuracy: 0.8661 - val_loss: 0.0568 - val_accuracy: 0.8871\n",
      "Epoch 15/35\n",
      "8/8 [==============================] - 11s 1s/step - loss: 0.0619 - accuracy: 0.8624 - val_loss: 0.0500 - val_accuracy: 0.9355\n",
      "Epoch 16/35\n",
      "8/8 [==============================] - 14s 2s/step - loss: 0.0589 - accuracy: 0.8664 - val_loss: 0.0535 - val_accuracy: 0.8710\n",
      "Epoch 17/35\n",
      "8/8 [==============================] - 13s 1s/step - loss: 0.0574 - accuracy: 0.8839 - val_loss: 0.0441 - val_accuracy: 0.9194\n",
      "Epoch 18/35\n",
      "8/8 [==============================] - 12s 2s/step - loss: 0.0527 - accuracy: 0.8965 - val_loss: 0.0502 - val_accuracy: 0.9194\n",
      "Epoch 19/35\n",
      "8/8 [==============================] - 9s 1s/step - loss: 0.0454 - accuracy: 0.9049 - val_loss: 0.0463 - val_accuracy: 0.9032\n",
      "Epoch 20/35\n",
      "8/8 [==============================] - 12s 2s/step - loss: 0.0527 - accuracy: 0.8726 - val_loss: 0.0620 - val_accuracy: 0.8710\n",
      "Epoch 21/35\n",
      "8/8 [==============================] - 15s 2s/step - loss: 0.0454 - accuracy: 0.9199 - val_loss: 0.0625 - val_accuracy: 0.8710\n",
      "Epoch 22/35\n",
      "8/8 [==============================] - 15s 2s/step - loss: 0.0383 - accuracy: 0.9206 - val_loss: 0.0592 - val_accuracy: 0.8548\n",
      "Epoch 23/35\n",
      "8/8 [==============================] - 10s 1s/step - loss: 0.0527 - accuracy: 0.8811 - val_loss: 0.0609 - val_accuracy: 0.8710\n",
      "Epoch 24/35\n",
      "8/8 [==============================] - 7s 905ms/step - loss: 0.0739 - accuracy: 0.8703 - val_loss: 0.0625 - val_accuracy: 0.8548\n",
      "Epoch 25/35\n",
      "8/8 [==============================] - 8s 938ms/step - loss: 0.0621 - accuracy: 0.8414 - val_loss: 0.0987 - val_accuracy: 0.8226\n",
      "Epoch 26/35\n",
      "8/8 [==============================] - 8s 940ms/step - loss: 0.0458 - accuracy: 0.9132 - val_loss: 0.0593 - val_accuracy: 0.9032\n",
      "Epoch 27/35\n",
      "8/8 [==============================] - 8s 960ms/step - loss: 0.0895 - accuracy: 0.8305 - val_loss: 0.0522 - val_accuracy: 0.9194\n",
      "Epoch 28/35\n",
      "8/8 [==============================] - 9s 1s/step - loss: 0.0642 - accuracy: 0.8629 - val_loss: 0.0638 - val_accuracy: 0.8710\n",
      "Epoch 29/35\n",
      "8/8 [==============================] - 10s 1s/step - loss: 0.0621 - accuracy: 0.8777 - val_loss: 0.0494 - val_accuracy: 0.9032\n",
      "Epoch 30/35\n",
      "8/8 [==============================] - 11s 1s/step - loss: 0.0411 - accuracy: 0.9267 - val_loss: 0.0476 - val_accuracy: 0.9194\n",
      "Epoch 31/35\n",
      "8/8 [==============================] - 9s 1s/step - loss: 0.0664 - accuracy: 0.8636 - val_loss: 0.0494 - val_accuracy: 0.9032\n",
      "Epoch 32/35\n",
      "8/8 [==============================] - 9s 1s/step - loss: 0.0390 - accuracy: 0.9072 - val_loss: 0.0496 - val_accuracy: 0.9032\n",
      "Epoch 33/35\n",
      "8/8 [==============================] - 10s 1s/step - loss: 0.0307 - accuracy: 0.9402 - val_loss: 0.0407 - val_accuracy: 0.9194\n",
      "Epoch 34/35\n",
      "8/8 [==============================] - 9s 1s/step - loss: 0.0504 - accuracy: 0.8869 - val_loss: 0.0513 - val_accuracy: 0.9032\n",
      "Epoch 35/35\n",
      "8/8 [==============================] - 8s 1s/step - loss: 0.0362 - accuracy: 0.9346 - val_loss: 0.0516 - val_accuracy: 0.9032\n"
     ]
    }
   ],
   "source": [
    "model = select_model('vgg_small_model')\n",
    "#model = tuner.hypermodel.build(bhps)\n",
    "history = train_model(model, train_ds, test_ds, epochs=35)\n",
    "\n",
    "#evaluate_model(testX, testY, model)"
   ]
  },
  {
   "cell_type": "code",
   "execution_count": 16,
   "metadata": {},
   "outputs": [
    {
     "name": "stdout",
     "output_type": "stream",
     "text": [
      "[0.4838709533214569, 0.6451612710952759, 0.7903226017951965, 0.5322580933570862, 0.6935483813285828, 0.8548387289047241, 0.8064516186714172, 0.774193525314331, 0.8225806355476379, 0.9032257795333862, 0.9032257795333862, 0.8870967626571655, 0.9032257795333862, 0.8870967626571655, 0.9354838728904724, 0.8709677457809448, 0.9193548560142517, 0.9193548560142517, 0.9032257795333862, 0.8709677457809448, 0.8709677457809448, 0.8548387289047241, 0.8709677457809448, 0.8548387289047241, 0.8225806355476379, 0.9032257795333862, 0.9193548560142517, 0.8709677457809448, 0.9032257795333862, 0.9193548560142517, 0.9032257795333862, 0.9032257795333862, 0.9193548560142517, 0.9032257795333862, 0.9032257795333862]\n"
     ]
    }
   ],
   "source": [
    "print(\"loss =\",history.history[\"loss\"])\n",
    "print(\"val_loss =\",history.history[\"val_loss\"])\n",
    "print(\"acc =\",history.history[\"accuracy\"])\n",
    "print(\"val_acc =\",history.history[\"val_accuracy\"])"
   ]
  },
  {
   "cell_type": "code",
   "execution_count": null,
   "metadata": {},
   "outputs": [
    {
     "name": "stdout",
     "output_type": "stream",
     "text": [
      "loss = [0.22497519850730896, 0.21416635811328888, 0.1636561155319214, 0.13210934400558472, 0.12020868062973022, 0.10055090487003326, 0.09672383964061737, 0.07640034705400467, 0.09279493987560272, 0.06421622633934021, 0.0856298953294754, 0.06610191613435745, 0.06236286088824272, 0.06685104966163635, 0.061523545533418655, 0.060288019478321075, 0.059381090104579926, 0.04825696721673012, 0.04491526633501053, 0.050940174609422684, 0.05237959325313568, 0.040814872831106186, 0.06189798191189766, 0.08095339685678482, 0.06303732842206955, 0.06036676838994026, 0.10113377124071121, 0.07260239869356155, 0.05840269476175308, 0.046509772539138794, 0.05326557531952858, 0.03870682045817375, 0.034509725868701935, 0.04216747358441353, 0.04051816463470459]\n",
      "val_loss = [0.21122969686985016, 0.18737666308879852, 0.1243443489074707, 0.17690889537334442, 0.12504221498966217, 0.09137201309204102, 0.07957252115011215, 0.09069792181253433, 0.0767928808927536, 0.05703876540064812, 0.05404513701796532, 0.0553487129509449, 0.04870680347084999, 0.05676403269171715, 0.05001625418663025, 0.05349921062588692, 0.04406015947461128, 0.05015997588634491, 0.04630209505558014, 0.06196374446153641, 0.06254424154758453, 0.059207309037446976, 0.060938939452171326, 0.06250298023223877, 0.09865275770425797, 0.05933265760540962, 0.052234672009944916, 0.06380148231983185, 0.049444183707237244, 0.04755840823054314, 0.049428414553403854, 0.04961257800459862, 0.04074226692318916, 0.05134144052863121, 0.05157914385199547]\n",
      "acc = [0.3919999897480011, 0.48399999737739563, 0.5879999995231628, 0.6800000071525574, 0.7400000095367432, 0.7839999794960022, 0.8080000281333923, 0.8320000171661377, 0.7960000038146973, 0.8640000224113464, 0.8199999928474426, 0.8519999980926514, 0.8679999709129333, 0.8679999709129333, 0.8600000143051147, 0.8679999709129333, 0.8840000033378601, 0.9079999923706055, 0.9079999923706055, 0.8880000114440918, 0.8999999761581421, 0.9120000004768372, 0.8679999709129333, 0.8479999899864197, 0.8479999899864197, 0.8679999709129333, 0.8080000281333923, 0.8479999899864197, 0.8799999952316284, 0.9160000085830688, 0.8960000276565552, 0.9160000085830688, 0.9319999814033508, 0.9039999842643738, 0.9120000004768372]\n",
      "val_acc = [0.4838709533214569, 0.6451612710952759, 0.7903226017951965, 0.5322580933570862, 0.6935483813285828, 0.8548387289047241, 0.8064516186714172, 0.774193525314331, 0.8225806355476379, 0.9032257795333862, 0.9032257795333862, 0.8870967626571655, 0.9032257795333862, 0.8870967626571655, 0.9354838728904724, 0.8709677457809448, 0.9193548560142517, 0.9193548560142517, 0.9032257795333862, 0.8709677457809448, 0.8709677457809448, 0.8548387289047241, 0.8709677457809448, 0.8548387289047241, 0.8225806355476379, 0.9032257795333862, 0.9193548560142517, 0.8709677457809448, 0.9032257795333862, 0.9193548560142517, 0.9032257795333862, 0.9032257795333862, 0.9193548560142517, 0.9032257795333862, 0.9032257795333862]\n"
     ]
    }
   ],
   "source": [
    "print(\"loss =\",history.history[\"loss\"])\n",
    "print(\"val_loss =\",history.history[\"val_loss\"])\n",
    "print(\"acc =\",history.history[\"accuracy\"])\n",
    "print(\"val_acc =\",history.history[\"val_accuracy\"])"
   ]
  },
  {
   "cell_type": "code",
   "execution_count": 19,
   "metadata": {},
   "outputs": [
    {
     "data": {
      "image/png": "[encoded data removed]",
      "text/plain": [
       "<Figure size 432x288 with 1 Axes>"
      ]
     },
     "metadata": {},
     "output_type": "display_data"
    }
   ],
   "source": [
    "N = 35\n",
    "plt.style.use(\"ggplot\")\n",
    "plt.figure()\n",
    "plt.plot(np.arange(0, N), history.history[\"loss\"], label=\"train_loss\")\n",
    "plt.plot(np.arange(0, N), history.history[\"val_loss\"], label=\"val_loss\")\n",
    "plt.plot(np.arange(0, N), history.history[\"accuracy\"], label=\"train_acc\")\n",
    "plt.plot(np.arange(0, N), history.history[\"val_accuracy\"], label=\"val_acc\")\n",
    "plt.title(\"Training Loss and Accuracy\")\n",
    "plt.xlabel(\"Epoch #\")\n",
    "plt.ylabel(\"Loss/Accuracy\")\n",
    "plt.legend(loc=\"lower left\")\n",
    "plt.savefig(\"plot.png\")"
   ]
  },
  {
   "cell_type": "code",
   "execution_count": null,
   "metadata": {},
   "outputs": [],
   "source": []
  },
  {
   "cell_type": "code",
   "execution_count": 37,
   "metadata": {},
   "outputs": [
    {
     "name": "stdout",
     "output_type": "stream",
     "text": [
      "op_mask\n",
      "no_mask\n",
      "no_mask\n",
      "no_mask\n",
      "no_mask\n",
      "no_mask\n",
      "no_mask\n",
      "no_mask\n",
      "no_mask\n",
      "no_mask\n",
      "no_mask\n",
      "no_mask\n",
      "no_mask\n",
      "no_mask\n",
      "no_mask\n",
      "no_mask\n",
      "no_mask\n",
      "no_mask\n",
      "no_mask\n",
      "no_mask\n",
      "no_mask\n",
      "no_mask\n",
      "no_mask\n",
      "no_mask\n",
      "no_mask\n",
      "no_mask\n",
      "no_mask\n",
      "no_mask\n",
      "no_mask\n",
      "no_mask\n",
      "no_mask\n",
      "no_mask\n",
      "no_mask\n",
      "no_mask\n",
      "no_mask\n",
      "no_mask\n",
      "no_mask\n",
      "no_mask\n",
      "no_mask\n",
      "no_mask\n",
      "no_mask\n",
      "no_mask\n",
      "no_mask\n",
      "no_mask\n",
      "no_mask\n",
      "no_mask\n",
      "no_mask\n",
      "no_mask\n",
      "no_mask\n",
      "no_mask\n",
      "no_mask\n",
      "no_mask\n",
      "no_mask\n",
      "no_mask\n",
      "no_mask\n",
      "no_mask\n"
     ]
    }
   ],
   "source": [
    "img_path='../img/ffp2/IMG_1599.JPG_(350.0, 92.0, 1009.0, 599.0).png'\n",
    "#img_path='../img/no_mask/IMG_1323.JPG_(1025, 427, 984, 984).png'\n",
    "#img_path='../img/op_mask/IMG_1337.JPG_(878, 710, 954, 954).png'\n",
    "#img_path='../img/other_mask/IMG_1327.JPG_(863, 476, 1097, 1097).png'\n",
    "predict('category',img_path=img_path,  model=model, labels=labels, img_size=(180,180))\n",
    "\n",
    "#predict('live_detection', model=model, labels=labels, img_size=(180,180))"
   ]
  },
  {
   "cell_type": "code",
   "execution_count": null,
   "metadata": {},
   "outputs": [],
   "source": []
  }
 ],
 "metadata": {
  "interpreter": {
   "hash": "320b063615c881cf99d5bda0a05a87a093cceae5b3aed84278fa7ef3d4b95f2a"
  },
  "kernelspec": {
   "display_name": "Python 3.9.7 64-bit ('base': conda)",
   "language": "python",
   "name": "python3"
  },
  "language_info": {
   "codemirror_mode": {
    "name": "ipython",
    "version": 3
   },
   "file_extension": ".py",
   "mimetype": "text/x-python",
   "name": "python",
   "nbconvert_exporter": "python",
   "pygments_lexer": "ipython3",
   "version": "3.9.9"
  },
  "orig_nbformat": 4
 },
 "nbformat": 4,
 "nbformat_minor": 2
}
