{
 "cells": [
  {
   "cell_type": "markdown",
   "metadata": {},
   "source": [
    "## Initializing opencv haarcascade face detection network\n",
    "https://github.com/opencv/opencv/tree/master/data/haarcascades"
   ]
  },
  {
   "cell_type": "code",
   "execution_count": 24,
   "metadata": {},
   "outputs": [],
   "source": [
    "# imports necessary for the face detection network\n",
    "import cv2\n",
    "import os"
   ]
  },
  {
   "cell_type": "code",
   "execution_count": 25,
   "metadata": {},
   "outputs": [],
   "source": [
    "# converts a loaded image into the correct format for the openCV face detection network\n",
    "def convertImg(img):\n",
    "    return cv2.cvtColor(img, cv2.COLOR_BGR2GRAY)\n",
    "\n",
    "# uses the FaceNet to localize faces in a picture\n",
    "def faceNetLocalize(img, **kwargs):\n",
    "    #parameters\n",
    "    scaleFactor = kwargs.get('scaleFactor', 1.1)    # between 1.05 (quality) and 1.4 (speed) recommended (scale of the faces we search for)\n",
    "    minNeighbors = kwargs.get('minNeighbors', 4)    # between 3 (quantity) and 6 (quality) recommended\n",
    "    minSize = kwargs.get('minSize', (10, 10))       # min size of a face in the picture\n",
    "    faceNet = kwargs.get('faceNet', init_faceNet()) # pretrained model from openCV\n",
    "    \n",
    "    # conversion and localization\n",
    "    img_cvt = convertImg(img)\n",
    "    return faceNet.detectMultiScale3(img_cvt, scaleFactor=scaleFactor, minNeighbors=minNeighbors, minSize=minSize, outputRejectLevels = True)\n",
    "\n",
    "# initialize the network using openCV\n",
    "def init_faceNet(**kwargs):\n",
    "    path = kwargs.get('path', 'haarcascade_frontalface_default.xml')\n",
    "    return cv2.CascadeClassifier(path)\n"
   ]
  },
  {
   "cell_type": "code",
   "execution_count": 26,
   "metadata": {},
   "outputs": [],
   "source": [
    "#TODO: testing with different model types\n",
    "#for example: eye model + larger bounding box towards the bottom"
   ]
  },
  {
   "cell_type": "markdown",
   "metadata": {},
   "source": [
    "## Mask classifier\n",
    "\n",
    "foundation: https://www.tensorflow.org/tutorials/load_data/images"
   ]
  },
  {
   "cell_type": "code",
   "execution_count": 27,
   "metadata": {},
   "outputs": [],
   "source": [
    "# imports necessary for the mask classifier\n",
    "\n",
    "from sklearn.model_selection import train_test_split\n",
    "from sklearn.metrics import classification_report\n",
    "import numpy as np\n",
    "import matplotlib.pyplot as plt\n",
    "from tensorflow.keras.layers import MaxPool2D, Conv2D, Dense, Flatten, AveragePooling2D, Dropout\n",
    "from tensorflow.keras.preprocessing.image import load_img, img_to_array, ImageDataGenerator\n",
    "from tensorflow.keras import Sequential, losses as lfs\n",
    "from tensorflow.keras.optimizers import Adam\n",
    "import keras_tuner as kt\n",
    "from tensorflow.keras import utils, models"
   ]
  },
  {
   "cell_type": "markdown",
   "metadata": {},
   "source": [
    "##### variables:"
   ]
  },
  {
   "cell_type": "code",
   "execution_count": 61,
   "metadata": {},
   "outputs": [],
   "source": [
    "# some useful variables\n",
    "\n",
    "batch_size = 32                             # the amount of images processed at once\n",
    "img_size = (180, 180)                       # img_size in pixels\n",
    "img_size_vgg = (224, 224)                   # the vgg network needs a fixed img_size\n",
    "def_epochs = 11                                 # default epochs used in training - should be chosen wisely\n",
    "imgs_path = os.path.join('..', 'img')       # path to the dataset\n",
    "num_classes = 3                             # default number of classes/ labels\n",
    "\n",
    "# String for the correct usage of predict()\n",
    "correct_usage = ('correct usage: \\n' \n",
    "                'predict(\\'category\\', [model], [labels], img_path=[img_path]) \\n'\n",
    "                'predict(\\'probabilities\\', [model], [labels], img_path=[img_path]) \\n'\n",
    "                'predict(\\'detection\\', [model], [labels], img_path=[img_path])\\n'\n",
    "                'predict(\\'live_detection\\', [model], [labels])'\n",
    "                'optional parameter: img_size, default=(180,180)')"
   ]
  },
  {
   "cell_type": "markdown",
   "metadata": {},
   "source": [
    "##### loading dataset:"
   ]
  },
  {
   "cell_type": "code",
   "execution_count": 29,
   "metadata": {},
   "outputs": [],
   "source": [
    "# method to load the images\n",
    "def load_dataset(**kwargs):\n",
    "    # optional values\n",
    "    imgs_path = kwargs.get('imgs_path', os.path.join('..', 'img'))\n",
    "    img_size = kwargs.get('img_size', (180, 180))\n",
    "\n",
    "    # initializing lists\n",
    "    valid_images = [\".jpg\",\".png\",\".jpeg\",\".JPG\"]\n",
    "    x=[]\n",
    "    y=[]\n",
    "    \n",
    "    # loop over files in image directory\n",
    "    for root, dirs, files in os.walk(imgs_path):\n",
    "        for filename in files:\n",
    "            end = os.path.splitext(filename)[1]\n",
    "            if end.lower() not in valid_images:\n",
    "                continue\n",
    "            image = load_img(os.path.join(root, filename), target_size=img_size)\n",
    "            image = img_to_array(image)\n",
    "            \n",
    "            label = os.path.join(root, filename).split(os.path.sep)[-2]\n",
    "            \n",
    "            x.append(image)\n",
    "            y.append(label)\n",
    "    \n",
    "    # convert images and labels to arrays for further use\n",
    "    x = np.array(x, dtype=\"float32\")\n",
    "    y = np.array(y)\n",
    "\n",
    "    ## convert labels to ints from 0 ... len(labels)-1\n",
    "    labels = []\n",
    "    for i in range(len(y)):\n",
    "        try:\n",
    "            j = labels.index(y[i])\n",
    "        except:\n",
    "            labels.append(y[i])\n",
    "            j = labels.index(y[i])\n",
    "        y[i] = j\n",
    "    y.astype(int)\n",
    "    \n",
    "    ## split dataset\n",
    "    trainX, testX, trainY, testY = train_test_split(x, y, test_size=0.2, random_state=3)\n",
    "\n",
    "    ## one-hot encoding\n",
    "    trainY = utils.to_categorical(trainY, num_classes)\n",
    "    testY = utils.to_categorical(testY, num_classes)\n",
    "\n",
    "    ## data augmentation\n",
    "    datagen = ImageDataGenerator(\n",
    "        rescale=1./255,\n",
    "        featurewise_center=True,\n",
    "        featurewise_std_normalization=True,\n",
    "        rotation_range=20,\n",
    "        width_shift_range=0.2,\n",
    "        height_shift_range=0.2,\n",
    "        zoom_range=0.2,\n",
    "        horizontal_flip=True,\n",
    "        validation_split=0.2\n",
    "    )\n",
    "\n",
    "    ## merge xs and ys\n",
    "    train_batches = datagen.flow(trainX, trainY, batch_size=32, subset='training')\n",
    "    test_batches  = datagen.flow(trainX, trainY, batch_size=32, subset='validation')\n",
    "    \n",
    "    return train_batches, test_batches, labels, testX, testY, trainX, trainY"
   ]
  },
  {
   "cell_type": "markdown",
   "metadata": {},
   "source": [
    "### Model selection & Training"
   ]
  },
  {
   "cell_type": "code",
   "execution_count": 30,
   "metadata": {},
   "outputs": [],
   "source": [
    "#Hypermodels\n",
    "# we tried using them, but in the end, they were not useful enough\n",
    "\n",
    "#https://www.analyticsvidhya.com/blog/2021/06/create-convolutional-neural-network-model-and-optimize-using-keras-tuner-deep-learning/\n",
    "#https://www.tensorflow.org/tutorials/keras/keras_tuner\n",
    "\n",
    "# hypermodel using the same layers as the basic_model\n",
    "def basic_model_builder(hp):\n",
    "  \n",
    "    basic_model = Sequential([\n",
    "        Conv2D(filters=hp.Int('c1_filter', min_value=32, max_value=256, step=16), kernel_size=hp.Choice('c1_kernel', values=[3,5]), activation='relu'),\n",
    "        AveragePooling2D(pool_size=(7,7)),\n",
    "        Flatten(name=\"flatten\"),\n",
    "        Dense(units=hp.Int('d1_units', min_value=32, max_value=512, step=32), activation=\"relu\"),\n",
    "        Dropout(0.2),#drops small confidences\n",
    "        Dense(num_classes, activation=\"softmax\")\n",
    "    ])\n",
    "\n",
    "    basic_model.compile(optimizer=Adam(hp.Choice('learning_rate', values=[1e-2, 1e-3, 1e-4])), loss=lfs.SparseCategoricalCrossentropy(from_logits=True), metrics=['accuracy'])\n",
    "    return basic_model\n",
    "\n",
    "# hypermodel using the same layers as the small_model\n",
    "def small_model_builder(hp):\n",
    "  \n",
    "    small_model = Sequential([\n",
    "        Conv2D(filters=hp.Int('c1_filter', min_value=32, max_value=256, step=16), kernel_size=hp.Choice('c1_kernel', values=[3,5]), activation='relu'),\n",
    "        Conv2D(filters=hp.Int('c2_filter', min_value=32, max_value=256, step=16), kernel_size=hp.Choice('c2_kernel', values=[3,5]), activation='relu'),\n",
    "        MaxPool2D(pool_size=(3,3)),\n",
    "        Flatten(name=\"flatten\"),\n",
    "        Dense(units=hp.Int('d1_units', min_value=32, max_value=512, step=32), activation=\"relu\"),\n",
    "        Dropout(0.2),#drops small confidences\n",
    "        Dense(num_classes, activation=\"softmax\")\n",
    "    ])\n",
    "\n",
    "    small_model.compile(optimizer=Adam(hp.Choice('learning_rate', values=[1e-2, 1e-3, 1e-4])), loss=lfs.SparseCategoricalCrossentropy(from_logits=True), metrics=['accuracy'])\n",
    "    return small_model\n",
    "\n",
    "# utilization of the keras auto-tuner\n",
    "def tune_model(model_builder, xs, ys):\n",
    "    tuner = kt.RandomSearch(kt.applications.HyperResNet(input_shape=(180, 180, 3), classes=2), objective='val_loss', max_trials=5)\n",
    "    tuner = kt.Hyperband(model_builder, objective='val_accuracy', max_epochs=10, factor=3)\n",
    "    tuner.search(xs, ys, epochs=50, validation_split=0.2)\n",
    "    return tuner.get_best_hyperparameters(num_trials=1)[0], tuner"
   ]
  },
  {
   "cell_type": "code",
   "execution_count": 56,
   "metadata": {},
   "outputs": [],
   "source": [
    "\n",
    "# function to select a model structure by name\n",
    "def select_model(model_name, **kwargs):\n",
    "    #optional parameters\n",
    "    num_labels = kwargs.get('num_classes', num_classes) # number of labels: is necessary for a correct output on the last Dense layer\n",
    "\n",
    "    # simplest model\n",
    "    basic_model = Sequential()\n",
    "    basic_model.add(Conv2D(32, (3,3), activation='relu', input_shape=(180,180,3)))\n",
    "    basic_model.add(AveragePooling2D(pool_size=(7,7)))\n",
    "    basic_model.add(Flatten(name=\"flatten\"))\n",
    "    basic_model.add(Dense(128, activation=\"relu\"))\n",
    "    basic_model.add(Dropout(0.5)) #drops small confidences\n",
    "    basic_model.add(Dense(num_labels, activation=\"softmax\"))\n",
    "    \n",
    "    #more complicated model, utilizing 2 convolutional layers like the vgg - still very time-consuming in training\n",
    "    small_model = Sequential()\n",
    "    small_model.add(Conv2D(filters=128, kernel_size=(5,5), activation='relu', input_shape=(180,180,3)))\n",
    "    small_model.add(Conv2D(filters=128, kernel_size=(5,5), activation='relu'))\n",
    "    small_model.add(MaxPool2D(pool_size=(3,3)))\n",
    "    small_model.add(Flatten(name=\"flatten\"))\n",
    "    small_model.add(Dense(units=224, activation=\"relu\"))\n",
    "    small_model.add(Dropout(0.5))#drops small confidences\n",
    "    small_model.add(Dense(num_labels, activation=\"softmax\"))\n",
    "    \n",
    "    #smaller version of the \"vgg_small_model\"\n",
    "    vgg_smaller_model=Sequential()\n",
    "    vgg_smaller_model.add(Conv2D(64,(3,3),activation='relu',input_shape=(180,180,3)))\n",
    "    vgg_smaller_model.add(MaxPool2D(2,2))\n",
    "    vgg_smaller_model.add(Conv2D(128,(3,3),activation='relu'))\n",
    "    vgg_smaller_model.add(MaxPool2D(2,2))\n",
    "    vgg_smaller_model.add(Flatten())\n",
    "    vgg_smaller_model.add(Dropout(0.5))\n",
    "    vgg_smaller_model.add(Dense(120,activation='relu'))\n",
    "    vgg_smaller_model.add(Dense(num_labels,activation='softmax'))\n",
    "    \n",
    "    # simpler version of the vgg model, utilizes only one convolutional layer at a time, before max-pooling\n",
    "    # but keeps the general design of the vgg model\n",
    "    vgg_small_model=Sequential()\n",
    "    vgg_small_model.add(Conv2D(64,(3,3),activation='relu',input_shape=(img_size[0],img_size[1],3)))\n",
    "    vgg_small_model.add(MaxPool2D(2,2))\n",
    "    vgg_small_model.add(Conv2D(64,(3,3),activation='relu'))\n",
    "    vgg_small_model.add(MaxPool2D(2,2))\n",
    "    vgg_small_model.add(Conv2D(128,(3,3),activation='relu'))\n",
    "    vgg_small_model.add(MaxPool2D(2,2))\n",
    "    vgg_small_model.add(Conv2D(128,(3,3),activation='relu'))\n",
    "    vgg_small_model.add(MaxPool2D(2,2))\n",
    "    vgg_small_model.add(Flatten())\n",
    "    vgg_small_model.add(Dropout(0.5))\n",
    "    vgg_small_model.add(Dense(120,activation='relu'))\n",
    "    vgg_small_model.add(Dense(num_labels,activation='softmax'))\n",
    "\n",
    "\n",
    "    # the vgg model is a state of the art model design, we do not have the necessary power or training data to utilize this model\n",
    "    vgg_model = Sequential()\n",
    "    vgg_model.add(Conv2D(input_shape=(224,224,3), filters=64, kernel_size=(3,3), padding=\"same\", activation=\"relu\", strides=(1,1))) \n",
    "    vgg_model.add(Conv2D(filters=64,kernel_size=(3,3),padding=\"same\", activation=\"relu\"))\n",
    "    vgg_model.add(MaxPool2D(pool_size=(2, 2), strides=(2, 2)))\n",
    "    vgg_model.add(Conv2D(filters=128, kernel_size=(3,3), padding=\"same\", activation=\"relu\"))\n",
    "    vgg_model.add(Conv2D(filters=128, kernel_size=(3,3), padding=\"same\", activation=\"relu\"))\n",
    "    vgg_model.add(MaxPool2D(pool_size=(2, 2), strides=(2)))\n",
    "    vgg_model.add(Conv2D(filters=256, kernel_size=(3,3), padding=\"same\", activation=\"relu\"))\n",
    "    vgg_model.add(Conv2D(filters=256, kernel_size=(3,3), padding=\"same\", activation=\"relu\"))\n",
    "    vgg_model.add(Conv2D(filters=256, kernel_size=(3,3), padding=\"same\", activation=\"relu\"))\n",
    "    vgg_model.add(MaxPool2D(pool_size=(2, 2), strides=(2)))\n",
    "    vgg_model.add(Conv2D(filters=512, kernel_size=(3,3), padding=\"same\", activation=\"relu\"))\n",
    "    vgg_model.add(Conv2D(filters=512, kernel_size=(3,3), padding=\"same\", activation=\"relu\"))\n",
    "    vgg_model.add(Conv2D(filters=512, kernel_size=(3,3), padding=\"same\", activation=\"relu\"))\n",
    "    vgg_model.add(MaxPool2D(pool_size=(2, 2), strides=(2)))\n",
    "    vgg_model.add(Conv2D(filters=512, kernel_size=(3,3), padding=\"same\", activation=\"relu\"))\n",
    "    vgg_model.add(Conv2D(filters=512, kernel_size=(3,3), padding=\"same\", activation=\"relu\"))\n",
    "    vgg_model.add(Conv2D(filters=512, kernel_size=(3,3), padding=\"same\", activation=\"relu\"))\n",
    "    vgg_model.add(MaxPool2D(pool_size=(2, 2), strides=(2)))\n",
    "    vgg_model.add(Flatten())\n",
    "    vgg_model.add(Dense(units=4096, activation=\"relu\"))\n",
    "    vgg_model.add(Dense(units=4096, activation=\"relu\"))\n",
    "    vgg_model.add(Dense(units=num_labels, activation=\"softmax\"))\n",
    "    \n",
    "\n",
    "    # returns the correct model\n",
    "\n",
    "    if model_name == 'basic_model':\n",
    "        #basic_model.summary()\n",
    "        return basic_model\n",
    "    \n",
    "    if model_name == 'small_model':\n",
    "        #small_model.summary()\n",
    "        return small_model\n",
    "\n",
    "    if model_name == 'vgg_model':\n",
    "        #vgg_model.summary()\n",
    "        return vgg_model\n",
    "    \n",
    "    if model_name == 'vgg_small_model':\n",
    "        #vgg_small_model.summary()\n",
    "        return vgg_small_model\n",
    "    \n",
    "    if model_name == 'vgg_smaller_model':\n",
    "        #vgg_smaller_model.summary()\n",
    "        return vgg_smaller_model"
   ]
  },
  {
   "cell_type": "markdown",
   "metadata": {},
   "source": [
    "about the VGG-model: https://neurohive.io/en/popular-networks/vgg16/"
   ]
  },
  {
   "cell_type": "code",
   "execution_count": 32,
   "metadata": {},
   "outputs": [],
   "source": [
    "# train the model using the given dataset\n",
    "def train_model(model, train_ds, val_ds, **kwargs):\n",
    "    # optional parameter\n",
    "    epochs = kwargs.get('epochs', def_epochs)   # training epochs\n",
    "    \n",
    "    # some loss functions we tested:\n",
    "    # categorical_crossentropy\n",
    "    # mean_squared_error\n",
    "    # mean_squared_logarithmic_error\n",
    "    \n",
    "    # compile the model\n",
    "    model.compile(loss='mean_squared_error', optimizer='adam', metrics=['accuracy'])\n",
    "    \n",
    "    # train/fit the model and save the history for documentation/ testing purposes\n",
    "    history = model.fit(train_ds, validation_data=val_ds, epochs=epochs)\n",
    "    return history"
   ]
  },
  {
   "cell_type": "markdown",
   "metadata": {},
   "source": [
    "#### Testing/Evaluation (mask):\n",
    "https://www.tensorflow.org/guide/keras/train_and_evaluate"
   ]
  },
  {
   "cell_type": "code",
   "execution_count": 33,
   "metadata": {},
   "outputs": [],
   "source": [
    "# deprecated evaluation function, but could still be useful\n",
    "def evaluate_model(x_test, y_test, model):\n",
    "    y_pred_confidences = model.predict(x_test)\n",
    "    y_pred = [np.argmax(cs) for cs in y_pred_confidences]\n",
    "    print(classification_report(y_test, y_pred))"
   ]
  },
  {
   "cell_type": "markdown",
   "metadata": {},
   "source": [
    "##### Load/ Save models"
   ]
  },
  {
   "cell_type": "code",
   "execution_count": 34,
   "metadata": {},
   "outputs": [],
   "source": [
    "def save_model(path, model):\n",
    "    model.save(path, save_format=\"h5\")\n",
    "    \n",
    "def load_model_good(path):\n",
    "    return models.load_model(path)"
   ]
  },
  {
   "cell_type": "markdown",
   "metadata": {},
   "source": [
    "##### Predictions:"
   ]
  },
  {
   "cell_type": "code",
   "execution_count": 54,
   "metadata": {},
   "outputs": [],
   "source": [
    "# returns the label with the highest confidence of a prediction\n",
    "def maskPredict(model, img, labels):\n",
    "    pred = model.predict(img[None])\n",
    "    label_index = np.argmax(pred)\n",
    "    print(labels[label_index])\n",
    "    return labels[label_index], pred[0][label_index]\n",
    "\n",
    "\n",
    "#mode can be 'category', 'probabilities', 'detection', 'live_detection'\n",
    "def predict(mode, model, **kwargs):\n",
    "    #model = kwargs.get('model', load_model())\n",
    "    img_path = kwargs.get('img_path', None)\n",
    "    img_size = kwargs.get('img_size', (180, 180))\n",
    "    labels = kwargs.get('labels', None)\n",
    "    \n",
    "    # display the help menu \n",
    "    if mode=='help':\n",
    "        print(correct_usage)\n",
    "        return\n",
    "\n",
    "    # change to live_detection and interpret camera feed\n",
    "    if mode=='live_detection':\n",
    "        live_det(model, img_size, labels)\n",
    "        return\n",
    "    \n",
    "    # print help menu, as function was malused\n",
    "    if img_path is None:\n",
    "        print(correct_usage)\n",
    "        return\n",
    "\n",
    "    #load_img\n",
    "    img = load_img(img_path, target_size = img_size)\n",
    "    img = img_to_array(img)\n",
    "    \n",
    "    #change into detection mode\n",
    "    if mode=='detection':\n",
    "        detect(img)\n",
    "        cv2.waitKey(0)\n",
    "        cv2.destroyAllWindows()\n",
    "        return\n",
    "        \n",
    "    # change into category mode, printing the label of highest confidence\n",
    "    if mode=='category':\n",
    "        label, _ = maskPredict(model, img, labels)\n",
    "        return label\n",
    "        \n",
    "    # change into probability mode, printing the probability for each label\n",
    "    if mode=='probabilities':\n",
    "        confidences = model.predict(img[None])[0]\n",
    "        ret_str = ''\n",
    "        for lab in range(len(labels)):\n",
    "          ret_str = ret_str + (f\"{labels[lab]}: {confidences[lab]}\")\n",
    "        return ret_str\n",
    "\n",
    "    # no valid mode was specified: print help menu\n",
    "    else:\n",
    "        print(correct_usage)\n",
    "\n",
    "# detect and classify a face on an image\n",
    "def detect(model, img, img_size, labels):\n",
    "    faceLocs, rejectLevels, confidences = faceNetLocalize(img)\n",
    "        \n",
    "    for (x, y, w, h) in faceLocs:\n",
    "        #crop image and predict label of cropped image\n",
    "        img_crop = img[y:y+w, x:x+h]\n",
    "        img_crop = cv2.resize(img_crop, img_size)\n",
    "        img_crop = img_crop / 255\n",
    "        label, confidence_mask = maskPredict(model, img_to_array(img_crop), labels)\n",
    "\n",
    "        #show label/ bounding box on image\n",
    "        cv2.putText(img, f\"{label}, confidence:{confidence_mask}\", (x, y), cv2.FONT_HERSHEY_PLAIN, 1, (0,255,0), 2) \n",
    "        cv2.rectangle(img, (x, y), (x+w, y+h), (0, 255, 0), 3)\n",
    "    \n",
    "    cv2.imshow('live_output', img)\n",
    "\n",
    "# detect and classify images from a live-feed\n",
    "def live_det(model, img_size, labels):\n",
    "    wait_time = 10 #time in ms to wait before refreshing feed\n",
    "    camera = cv2.VideoCapture(0) #Input value might differ on different systems\n",
    "    \n",
    "    while(True):\n",
    "        ret, img = camera.read()\n",
    "        if not ret:\n",
    "            print('Error: failed reading camera')\n",
    "            return 'Error: failed reading camera'\n",
    "        detect(model, img, img_size, labels)\n",
    "\n",
    "        #wait for ESC or q\n",
    "        if (cv2.waitKey(wait_time) & 0xFF) in [27, ord('q')]: \n",
    "            break\n",
    "\n",
    "    camera.release()\n",
    "    cv2.destroyAllWindows()\n",
    "    return 'live_output'"
   ]
  },
  {
   "cell_type": "markdown",
   "metadata": {},
   "source": [
    "## Testing, documentation, stuff ..."
   ]
  },
  {
   "cell_type": "code",
   "execution_count": 36,
   "metadata": {},
   "outputs": [],
   "source": [
    "train_ds, test_ds, labels, testX, testY, trainX, trainY = load_dataset(img_size=img_size)\n",
    "#bhps, tuner = tune_model(basic_model_builder, x_test, y_test)"
   ]
  },
  {
   "cell_type": "code",
   "execution_count": 37,
   "metadata": {},
   "outputs": [
    {
     "name": "stdout",
     "output_type": "stream",
     "text": [
      "Model: \"sequential_9\"\n",
      "_________________________________________________________________\n",
      "Layer (type)                 Output Shape              Param #   \n",
      "=================================================================\n",
      "conv2d_29 (Conv2D)           (None, 178, 178, 64)      1792      \n",
      "_________________________________________________________________\n",
      "max_pooling2d_17 (MaxPooling (None, 89, 89, 64)        0         \n",
      "_________________________________________________________________\n",
      "conv2d_30 (Conv2D)           (None, 87, 87, 64)        36928     \n",
      "_________________________________________________________________\n",
      "max_pooling2d_18 (MaxPooling (None, 43, 43, 64)        0         \n",
      "_________________________________________________________________\n",
      "conv2d_31 (Conv2D)           (None, 41, 41, 128)       73856     \n",
      "_________________________________________________________________\n",
      "max_pooling2d_19 (MaxPooling (None, 20, 20, 128)       0         \n",
      "_________________________________________________________________\n",
      "conv2d_32 (Conv2D)           (None, 18, 18, 128)       147584    \n",
      "_________________________________________________________________\n",
      "max_pooling2d_20 (MaxPooling (None, 9, 9, 128)         0         \n",
      "_________________________________________________________________\n",
      "flatten_5 (Flatten)          (None, 10368)             0         \n",
      "_________________________________________________________________\n",
      "dropout_8 (Dropout)          (None, 10368)             0         \n",
      "_________________________________________________________________\n",
      "dense_19 (Dense)             (None, 120)               1244280   \n",
      "_________________________________________________________________\n",
      "dense_20 (Dense)             (None, 3)                 363       \n",
      "=================================================================\n",
      "Total params: 1,504,803\n",
      "Trainable params: 1,504,803\n",
      "Non-trainable params: 0\n",
      "_________________________________________________________________\n"
     ]
    },
    {
     "name": "stderr",
     "output_type": "stream",
     "text": [
      "C:\\Users\\Julie\\anaconda3\\lib\\site-packages\\keras_preprocessing\\image\\image_data_generator.py:720: UserWarning: This ImageDataGenerator specifies `featurewise_center`, but it hasn't been fit on any training data. Fit it first by calling `.fit(numpy_data)`.\n",
      "  warnings.warn('This ImageDataGenerator specifies '\n",
      "C:\\Users\\Julie\\anaconda3\\lib\\site-packages\\keras_preprocessing\\image\\image_data_generator.py:728: UserWarning: This ImageDataGenerator specifies `featurewise_std_normalization`, but it hasn't been fit on any training data. Fit it first by calling `.fit(numpy_data)`.\n",
      "  warnings.warn('This ImageDataGenerator specifies '\n"
     ]
    },
    {
     "name": "stdout",
     "output_type": "stream",
     "text": [
      "Epoch 1/15\n",
      "8/8 [==============================] - 11s 1s/step - loss: 0.2268 - accuracy: 0.3837 - val_loss: 0.2138 - val_accuracy: 0.2787\n",
      "Epoch 2/15\n",
      "8/8 [==============================] - 9s 1s/step - loss: 0.2053 - accuracy: 0.4490 - val_loss: 0.1895 - val_accuracy: 0.5410\n",
      "Epoch 3/15\n",
      "8/8 [==============================] - 9s 1s/step - loss: 0.1691 - accuracy: 0.5796 - val_loss: 0.1543 - val_accuracy: 0.6393\n",
      "Epoch 4/15\n",
      "8/8 [==============================] - 9s 1s/step - loss: 0.1260 - accuracy: 0.7551 - val_loss: 0.1229 - val_accuracy: 0.7377\n",
      "Epoch 5/15\n",
      "8/8 [==============================] - 9s 1s/step - loss: 0.1245 - accuracy: 0.7265 - val_loss: 0.0791 - val_accuracy: 0.8361\n",
      "Epoch 6/15\n",
      "8/8 [==============================] - 9s 1s/step - loss: 0.1057 - accuracy: 0.7918 - val_loss: 0.1011 - val_accuracy: 0.7377\n",
      "Epoch 7/15\n",
      "8/8 [==============================] - 10s 1s/step - loss: 0.0969 - accuracy: 0.7878 - val_loss: 0.0712 - val_accuracy: 0.8525\n",
      "Epoch 8/15\n",
      "8/8 [==============================] - 9s 1s/step - loss: 0.0868 - accuracy: 0.8041 - val_loss: 0.0680 - val_accuracy: 0.8525\n",
      "Epoch 9/15\n",
      "8/8 [==============================] - 10s 1s/step - loss: 0.0867 - accuracy: 0.8163 - val_loss: 0.0425 - val_accuracy: 0.9344\n",
      "Epoch 10/15\n",
      "8/8 [==============================] - 10s 1s/step - loss: 0.0659 - accuracy: 0.8653 - val_loss: 0.0821 - val_accuracy: 0.8525\n",
      "Epoch 11/15\n",
      "8/8 [==============================] - 10s 1s/step - loss: 0.0837 - accuracy: 0.8408 - val_loss: 0.0691 - val_accuracy: 0.8525\n",
      "Epoch 12/15\n",
      "8/8 [==============================] - 9s 1s/step - loss: 0.0838 - accuracy: 0.8367 - val_loss: 0.0469 - val_accuracy: 0.9016\n",
      "Epoch 13/15\n",
      "8/8 [==============================] - 10s 1s/step - loss: 0.0649 - accuracy: 0.8653 - val_loss: 0.0579 - val_accuracy: 0.8361\n",
      "Epoch 14/15\n",
      "8/8 [==============================] - 9s 1s/step - loss: 0.0704 - accuracy: 0.8571 - val_loss: 0.0413 - val_accuracy: 0.9180\n",
      "Epoch 15/15\n",
      "8/8 [==============================] - 9s 1s/step - loss: 0.0377 - accuracy: 0.9306 - val_loss: 0.0472 - val_accuracy: 0.8852\n"
     ]
    }
   ],
   "source": [
    "model = select_model('vgg_small_model')\n",
    "#model = tuner.hypermodel.build(bhps)\n",
    "history = train_model(model, train_ds, test_ds, epochs=15)\n",
    "\n",
    "#evaluate_model(testX, testY, model)"
   ]
  },
  {
   "cell_type": "code",
   "execution_count": 38,
   "metadata": {},
   "outputs": [
    {
     "name": "stdout",
     "output_type": "stream",
     "text": [
      "loss = [0.22679203748703003, 0.2053389996290207, 0.16911639273166656, 0.12601663172245026, 0.12450552731752396, 0.1056663990020752, 0.0969032421708107, 0.08678758889436722, 0.08668801188468933, 0.06593577563762665, 0.0837370753288269, 0.08378680050373077, 0.06485350430011749, 0.07042436301708221, 0.037699684500694275]\n",
      "val_loss = [0.2138388603925705, 0.1895151287317276, 0.15430901944637299, 0.12285609543323517, 0.07908414304256439, 0.10113456845283508, 0.07119423896074295, 0.06802776455879211, 0.04247521981596947, 0.08209511637687683, 0.06914598494768143, 0.046947333961725235, 0.05786660686135292, 0.04125593602657318, 0.0471620187163353]\n",
      "acc = [0.38367345929145813, 0.44897958636283875, 0.5795918107032776, 0.7551020383834839, 0.7265306115150452, 0.7918367385864258, 0.7877551317214966, 0.8040816187858582, 0.8163265585899353, 0.8653061389923096, 0.8408163189888, 0.8367347121238708, 0.8653061389923096, 0.8571428656578064, 0.9306122660636902]\n",
      "val_acc = [0.2786885201931, 0.5409836173057556, 0.6393442749977112, 0.7377049326896667, 0.8360655903816223, 0.7377049326896667, 0.8524590134620667, 0.8524590134620667, 0.9344262480735779, 0.8524590134620667, 0.8524590134620667, 0.9016393423080444, 0.8360655903816223, 0.9180327653884888, 0.8852459192276001]\n"
     ]
    }
   ],
   "source": [
    "print(\"loss =\",history.history[\"loss\"])\n",
    "print(\"val_loss =\",history.history[\"val_loss\"])\n",
    "print(\"acc =\",history.history[\"accuracy\"])\n",
    "print(\"val_acc =\",history.history[\"val_accuracy\"])"
   ]
  },
  {
   "cell_type": "code",
   "execution_count": 39,
   "metadata": {},
   "outputs": [
    {
     "name": "stdout",
     "output_type": "stream",
     "text": [
      "loss = [0.22679203748703003, 0.2053389996290207, 0.16911639273166656, 0.12601663172245026, 0.12450552731752396, 0.1056663990020752, 0.0969032421708107, 0.08678758889436722, 0.08668801188468933, 0.06593577563762665, 0.0837370753288269, 0.08378680050373077, 0.06485350430011749, 0.07042436301708221, 0.037699684500694275]\n",
      "val_loss = [0.2138388603925705, 0.1895151287317276, 0.15430901944637299, 0.12285609543323517, 0.07908414304256439, 0.10113456845283508, 0.07119423896074295, 0.06802776455879211, 0.04247521981596947, 0.08209511637687683, 0.06914598494768143, 0.046947333961725235, 0.05786660686135292, 0.04125593602657318, 0.0471620187163353]\n",
      "acc = [0.38367345929145813, 0.44897958636283875, 0.5795918107032776, 0.7551020383834839, 0.7265306115150452, 0.7918367385864258, 0.7877551317214966, 0.8040816187858582, 0.8163265585899353, 0.8653061389923096, 0.8408163189888, 0.8367347121238708, 0.8653061389923096, 0.8571428656578064, 0.9306122660636902]\n",
      "val_acc = [0.2786885201931, 0.5409836173057556, 0.6393442749977112, 0.7377049326896667, 0.8360655903816223, 0.7377049326896667, 0.8524590134620667, 0.8524590134620667, 0.9344262480735779, 0.8524590134620667, 0.8524590134620667, 0.9016393423080444, 0.8360655903816223, 0.9180327653884888, 0.8852459192276001]\n"
     ]
    }
   ],
   "source": [
    "print(\"loss =\",history.history[\"loss\"])\n",
    "print(\"val_loss =\",history.history[\"val_loss\"])\n",
    "print(\"acc =\",history.history[\"accuracy\"])\n",
    "print(\"val_acc =\",history.history[\"val_accuracy\"])"
   ]
  },
  {
   "cell_type": "code",
   "execution_count": 40,
   "metadata": {},
   "outputs": [
    {
     "data": {
      "image/png": "[encoded data removed]",
      "text/plain": [
       "<Figure size 432x288 with 1 Axes>"
      ]
     },
     "metadata": {},
     "output_type": "display_data"
    }
   ],
   "source": [
    "N = 15\n",
    "plt.style.use(\"ggplot\")\n",
    "plt.figure()\n",
    "plt.plot(np.arange(0, N), history.history[\"loss\"], label=\"train_loss\")\n",
    "plt.plot(np.arange(0, N), history.history[\"val_loss\"], label=\"val_loss\")\n",
    "plt.plot(np.arange(0, N), history.history[\"accuracy\"], label=\"train_acc\")\n",
    "plt.plot(np.arange(0, N), history.history[\"val_accuracy\"], label=\"val_acc\")\n",
    "plt.title(\"Training Loss and Accuracy\")\n",
    "plt.xlabel(\"Epoch #\")\n",
    "plt.ylabel(\"Loss/Accuracy\")\n",
    "plt.legend(loc=\"lower left\")\n",
    "plt.savefig(\"plot.png\")"
   ]
  },
  {
   "cell_type": "code",
   "execution_count": 55,
   "metadata": {},
   "outputs": [
    {
     "data": {
      "text/plain": [
       "'ffp2: 0.0 \\nno_mask: 1.0 \\nop_mask: 0.0 \\n'"
      ]
     },
     "execution_count": 55,
     "metadata": {},
     "output_type": "execute_result"
    }
   ],
   "source": [
    "img_path='../img/ffp2/IMG_1599.JPG_(350.0, 92.0, 1009.0, 599.0).png'\n",
    "img_path='../img/no_mask/Foto 22.01.22, 19 02 46.jpg_(103.0, 94.0, 619.0, 848.0).png'\n",
    "#img_path='../img/op_mask/IMG_1337.JPG_(878, 710, 954, 954).png'\n",
    "#img_path='../img/other_mask/IMG_1327.JPG_(863, 476, 1097, 1097).png'\n",
    "predict('probabilities',img_path=img_path,  model=model, labels=labels, img_size=(180,180))\n",
    "\n",
    "#predict('live_detection', model=model, labels=labels, img_size=(180,180))"
   ]
  },
  {
   "cell_type": "code",
   "execution_count": null,
   "metadata": {},
   "outputs": [],
   "source": []
  }
 ],
 "metadata": {
  "interpreter": {
   "hash": "320b063615c881cf99d5bda0a05a87a093cceae5b3aed84278fa7ef3d4b95f2a"
  },
  "kernelspec": {
   "display_name": "Python 3.9.7 64-bit ('base': conda)",
   "language": "python",
   "name": "python3"
  },
  "language_info": {
   "codemirror_mode": {
    "name": "ipython",
    "version": 3
   },
   "file_extension": ".py",
   "mimetype": "text/x-python",
   "name": "python",
   "nbconvert_exporter": "python",
   "pygments_lexer": "ipython3",
   "version": "3.9.7"
  },
  "orig_nbformat": 4
 },
 "nbformat": 4,
 "nbformat_minor": 2
}
